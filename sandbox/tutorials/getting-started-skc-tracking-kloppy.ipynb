{
 "cells": [
  {
   "cell_type": "markdown",
   "id": "e1fa619e",
   "metadata": {},
   "source": [
    "## Getting Started "
   ]
  },
  {
   "cell_type": "markdown",
   "id": "370110fa",
   "metadata": {},
   "source": [
    "[Kloppy](https://kloppy.pysport.org/) by [PySport](https://pysport.org/) is _the_ industry standard open-source fooball data standardization package. Kloppy simplifies football data processing by offering a single place to [**load**](https://kloppy.pysport.org/user-guide/loading-data/skillcorner/), [**filter**](https://kloppy.pysport.org/user-guide/getting-started/#filtering-data), [**transform**](https://kloppy.pysport.org/user-guide/transformations/coordinates/) and [**export**](https://kloppy.pysport.org/user-guide/exporting-data/) your football data in a standardized way. \n",
    "\n",
    "We can use Kloppy to directly load data from GitHub (see below)."
   ]
  },
  {
   "cell_type": "markdown",
   "id": "5adf3751",
   "metadata": {},
   "source": [
    "---\n",
    "\n",
    "### Before we get started:\n",
    "- Download Python3.11+ if you don't have it already.\n",
    "- Make a virtual environment to store and install all the Python packages related to this project.\n",
    "- Activate the virtual environment (select it as a Kernel for this Jupyter Notebook)\n",
    "- [Install Kloppy](https://kloppy.pysport.org/user-guide/installation/) (`pip install kloppy`) into the virtual environment\n",
    "\n",
    "---\n",
    "\n",
    "### Kloppy\n",
    "\n",
    "Using Kloppy we can now easily load the tracking data directly from GitHub using the URL to the raw files.\n"
   ]
  },
  {
   "cell_type": "code",
   "execution_count": 5,
   "id": "fd4c3680",
   "metadata": {},
   "outputs": [],
   "source": [
    "# !pip install kloppy polars"
   ]
  },
  {
   "cell_type": "code",
   "execution_count": 2,
   "id": "eb91b6d1",
   "metadata": {
    "ExecuteTime": {
     "end_time": "2025-10-07T16:56:15.604341Z",
     "start_time": "2025-10-07T16:56:14.616507Z"
    }
   },
   "outputs": [],
   "source": [
    "from kloppy import skillcorner\n",
    "\n",
    "match_id = 1886347\n",
    "\n",
    "tracking_data_github_url = f\"https://media.githubusercontent.com/media/SkillCorner/opendata/master/data/matches/{match_id}/{match_id}_tracking_extrapolated.jsonl\"\n",
    "meta_data_github_url = f\"https://raw.githubusercontent.com/SkillCorner/opendata/master/data/matches/{match_id}/{match_id}_match.json\"\n",
    "\n",
    "dataset = skillcorner.load(\n",
    "    meta_data=meta_data_github_url,\n",
    "    raw_data=tracking_data_github_url,\n",
    "    # Optional Parameters\n",
    "    coordinates=\"skillcorner\",  # or specify a different coordinate system\n",
    "    sample_rate=(1 / 2),  # changes the data from 10fps to 5fps\n",
    "    limit=100,  # only load the first 100 frames\n",
    ")"
   ]
  },
  {
   "cell_type": "markdown",
   "id": "7cf90dc4",
   "metadata": {},
   "source": [
    "### Basic Kloppy Operations\n",
    "\n",
    "Kloppy has many built in fuctionalities, below is a basic example to:\n",
    "- Transform the coordinate system such that the home team attack from left to right both periods\n",
    "- Filter out only the first half\n",
    "- Output to [Polars](https://pola.rs/) dataframe. You can also output to `\"pandas\"`"
   ]
  },
  {
   "cell_type": "code",
   "execution_count": 9,
   "id": "77278ede",
   "metadata": {},
   "outputs": [
    {
     "data": {
      "text/html": [
       "<div><style>\n",
       ".dataframe > thead > tr,\n",
       ".dataframe > tbody > tr {\n",
       "  text-align: right;\n",
       "  white-space: pre-wrap;\n",
       "}\n",
       "</style>\n",
       "<small>shape: (199, 97)</small><table border=\"1\" class=\"dataframe\"><thead><tr><th>period_id</th><th>timestamp</th><th>frame_id</th><th>ball_state</th><th>ball_owning_team_id</th><th>ball_x</th><th>ball_y</th><th>ball_z</th><th>ball_speed</th><th>51009_x</th><th>51009_y</th><th>51009_d</th><th>51009_s</th><th>176224_x</th><th>176224_y</th><th>176224_d</th><th>176224_s</th><th>51649_x</th><th>51649_y</th><th>51649_d</th><th>51649_s</th><th>50983_x</th><th>50983_y</th><th>50983_d</th><th>50983_s</th><th>735578_x</th><th>735578_y</th><th>735578_d</th><th>735578_s</th><th>50978_x</th><th>50978_y</th><th>50978_d</th><th>50978_s</th><th>735574_x</th><th>735574_y</th><th>735574_d</th><th>735574_s</th><th>&hellip;</th><th>51667_s</th><th>33697_x</th><th>33697_y</th><th>33697_d</th><th>33697_s</th><th>51713_x</th><th>51713_y</th><th>51713_d</th><th>51713_s</th><th>133498_x</th><th>133498_y</th><th>133498_d</th><th>133498_s</th><th>14736_x</th><th>14736_y</th><th>14736_d</th><th>14736_s</th><th>23418_x</th><th>23418_y</th><th>23418_d</th><th>23418_s</th><th>133501_x</th><th>133501_y</th><th>133501_d</th><th>133501_s</th><th>965685_x</th><th>965685_y</th><th>965685_d</th><th>965685_s</th><th>50951_x</th><th>50951_y</th><th>50951_d</th><th>50951_s</th><th>38673_x</th><th>38673_y</th><th>38673_d</th><th>38673_s</th></tr><tr><td>i64</td><td>duration[μs]</td><td>i64</td><td>str</td><td>i64</td><td>f64</td><td>f64</td><td>f64</td><td>null</td><td>f64</td><td>f64</td><td>null</td><td>null</td><td>f64</td><td>f64</td><td>null</td><td>null</td><td>f64</td><td>f64</td><td>null</td><td>null</td><td>f64</td><td>f64</td><td>null</td><td>null</td><td>f64</td><td>f64</td><td>null</td><td>null</td><td>f64</td><td>f64</td><td>null</td><td>null</td><td>f64</td><td>f64</td><td>null</td><td>null</td><td>&hellip;</td><td>null</td><td>f64</td><td>f64</td><td>null</td><td>null</td><td>f64</td><td>f64</td><td>null</td><td>null</td><td>f64</td><td>f64</td><td>null</td><td>null</td><td>f64</td><td>f64</td><td>null</td><td>null</td><td>f64</td><td>f64</td><td>null</td><td>null</td><td>f64</td><td>f64</td><td>null</td><td>null</td><td>f64</td><td>f64</td><td>null</td><td>null</td><td>f64</td><td>f64</td><td>null</td><td>null</td><td>f64</td><td>f64</td><td>null</td><td>null</td></tr></thead><tbody><tr><td>1</td><td>0µs</td><td>10</td><td>&quot;dead&quot;</td><td>null</td><td>0.32</td><td>0.38</td><td>0.13</td><td>null</td><td>-39.63</td><td>-0.08</td><td>null</td><td>null</td><td>-19.21</td><td>-9.18</td><td>null</td><td>null</td><td>-21.83</td><td>0.47</td><td>null</td><td>null</td><td>-1.16</td><td>-32.47</td><td>null</td><td>null</td><td>-18.88</td><td>15.73</td><td>null</td><td>null</td><td>-7.41</td><td>7.13</td><td>null</td><td>null</td><td>-9.51</td><td>-5.01</td><td>null</td><td>null</td><td>&hellip;</td><td>null</td><td>16.78</td><td>-3.67</td><td>null</td><td>null</td><td>17.03</td><td>14.69</td><td>null</td><td>null</td><td>17.55</td><td>-13.6</td><td>null</td><td>null</td><td>11.7</td><td>6.73</td><td>null</td><td>null</td><td>10.16</td><td>-2.12</td><td>null</td><td>null</td><td>0.91</td><td>18.96</td><td>null</td><td>null</td><td>7.74</td><td>-16.27</td><td>null</td><td>null</td><td>0.4</td><td>-8.28</td><td>null</td><td>null</td><td>2.67</td><td>9.94</td><td>null</td><td>null</td></tr><tr><td>1</td><td>200ms</td><td>12</td><td>&quot;dead&quot;</td><td>null</td><td>0.57</td><td>-0.07</td><td>0.19</td><td>null</td><td>-40.06</td><td>-0.18</td><td>null</td><td>null</td><td>-19.24</td><td>-9.27</td><td>null</td><td>null</td><td>-21.81</td><td>0.4</td><td>null</td><td>null</td><td>-1.13</td><td>-32.66</td><td>null</td><td>null</td><td>-19.07</td><td>15.73</td><td>null</td><td>null</td><td>-7.32</td><td>7.14</td><td>null</td><td>null</td><td>-9.46</td><td>-5.15</td><td>null</td><td>null</td><td>&hellip;</td><td>null</td><td>16.83</td><td>-3.72</td><td>null</td><td>null</td><td>17.13</td><td>14.55</td><td>null</td><td>null</td><td>17.59</td><td>-13.66</td><td>null</td><td>null</td><td>11.46</td><td>6.66</td><td>null</td><td>null</td><td>10.09</td><td>-2.31</td><td>null</td><td>null</td><td>1.05</td><td>18.74</td><td>null</td><td>null</td><td>7.8</td><td>-16.43</td><td>null</td><td>null</td><td>0.48</td><td>-8.49</td><td>null</td><td>null</td><td>2.56</td><td>9.87</td><td>null</td><td>null</td></tr><tr><td>1</td><td>400ms</td><td>14</td><td>&quot;dead&quot;</td><td>null</td><td>0.59</td><td>-0.03</td><td>0.14</td><td>null</td><td>-40.39</td><td>-0.25</td><td>null</td><td>null</td><td>-19.26</td><td>-9.36</td><td>null</td><td>null</td><td>-21.78</td><td>0.34</td><td>null</td><td>null</td><td>-1.11</td><td>-32.82</td><td>null</td><td>null</td><td>-19.25</td><td>15.73</td><td>null</td><td>null</td><td>-7.23</td><td>7.13</td><td>null</td><td>null</td><td>-9.44</td><td>-5.24</td><td>null</td><td>null</td><td>&hellip;</td><td>null</td><td>16.88</td><td>-3.74</td><td>null</td><td>null</td><td>17.19</td><td>14.43</td><td>null</td><td>null</td><td>17.62</td><td>-13.71</td><td>null</td><td>null</td><td>11.22</td><td>6.61</td><td>null</td><td>null</td><td>10.02</td><td>-2.45</td><td>null</td><td>null</td><td>1.17</td><td>18.53</td><td>null</td><td>null</td><td>7.84</td><td>-16.57</td><td>null</td><td>null</td><td>0.53</td><td>-8.64</td><td>null</td><td>null</td><td>2.45</td><td>9.79</td><td>null</td><td>null</td></tr><tr><td>1</td><td>600ms</td><td>16</td><td>&quot;dead&quot;</td><td>null</td><td>0.65</td><td>0.03</td><td>0.14</td><td>null</td><td>-40.63</td><td>-0.3</td><td>null</td><td>null</td><td>-19.28</td><td>-9.43</td><td>null</td><td>null</td><td>-21.75</td><td>0.29</td><td>null</td><td>null</td><td>-1.09</td><td>-32.93</td><td>null</td><td>null</td><td>-19.41</td><td>15.73</td><td>null</td><td>null</td><td>-7.14</td><td>7.11</td><td>null</td><td>null</td><td>-9.43</td><td>-5.3</td><td>null</td><td>null</td><td>&hellip;</td><td>null</td><td>16.93</td><td>-3.74</td><td>null</td><td>null</td><td>17.2</td><td>14.33</td><td>null</td><td>null</td><td>17.63</td><td>-13.75</td><td>null</td><td>null</td><td>11.0</td><td>6.58</td><td>null</td><td>null</td><td>9.93</td><td>-2.56</td><td>null</td><td>null</td><td>1.26</td><td>18.35</td><td>null</td><td>null</td><td>7.85</td><td>-16.69</td><td>null</td><td>null</td><td>0.56</td><td>-8.73</td><td>null</td><td>null</td><td>2.35</td><td>9.7</td><td>null</td><td>null</td></tr><tr><td>1</td><td>800ms</td><td>18</td><td>&quot;dead&quot;</td><td>null</td><td>0.67</td><td>0.06</td><td>0.15</td><td>null</td><td>-40.72</td><td>-0.29</td><td>null</td><td>null</td><td>-19.27</td><td>-9.5</td><td>null</td><td>null</td><td>-21.72</td><td>0.27</td><td>null</td><td>null</td><td>-1.08</td><td>-32.99</td><td>null</td><td>null</td><td>-19.57</td><td>15.7</td><td>null</td><td>null</td><td>-7.05</td><td>7.04</td><td>null</td><td>null</td><td>-9.47</td><td>-5.3</td><td>null</td><td>null</td><td>&hellip;</td><td>null</td><td>16.94</td><td>-3.7</td><td>null</td><td>null</td><td>17.15</td><td>14.27</td><td>null</td><td>null</td><td>17.64</td><td>-13.78</td><td>null</td><td>null</td><td>10.77</td><td>6.58</td><td>null</td><td>null</td><td>9.84</td><td>-2.61</td><td>null</td><td>null</td><td>1.35</td><td>18.22</td><td>null</td><td>null</td><td>7.81</td><td>-16.77</td><td>null</td><td>null</td><td>0.55</td><td>-8.74</td><td>null</td><td>null</td><td>2.26</td><td>9.61</td><td>null</td><td>null</td></tr><tr><td>&hellip;</td><td>&hellip;</td><td>&hellip;</td><td>&hellip;</td><td>&hellip;</td><td>&hellip;</td><td>&hellip;</td><td>&hellip;</td><td>&hellip;</td><td>&hellip;</td><td>&hellip;</td><td>&hellip;</td><td>&hellip;</td><td>&hellip;</td><td>&hellip;</td><td>&hellip;</td><td>&hellip;</td><td>&hellip;</td><td>&hellip;</td><td>&hellip;</td><td>&hellip;</td><td>&hellip;</td><td>&hellip;</td><td>&hellip;</td><td>&hellip;</td><td>&hellip;</td><td>&hellip;</td><td>&hellip;</td><td>&hellip;</td><td>&hellip;</td><td>&hellip;</td><td>&hellip;</td><td>&hellip;</td><td>&hellip;</td><td>&hellip;</td><td>&hellip;</td><td>&hellip;</td><td>&hellip;</td><td>&hellip;</td><td>&hellip;</td><td>&hellip;</td><td>&hellip;</td><td>&hellip;</td><td>&hellip;</td><td>&hellip;</td><td>&hellip;</td><td>&hellip;</td><td>&hellip;</td><td>&hellip;</td><td>&hellip;</td><td>&hellip;</td><td>&hellip;</td><td>&hellip;</td><td>&hellip;</td><td>&hellip;</td><td>&hellip;</td><td>&hellip;</td><td>&hellip;</td><td>&hellip;</td><td>&hellip;</td><td>&hellip;</td><td>&hellip;</td><td>&hellip;</td><td>&hellip;</td><td>&hellip;</td><td>&hellip;</td><td>&hellip;</td><td>&hellip;</td><td>&hellip;</td><td>&hellip;</td><td>&hellip;</td><td>&hellip;</td><td>&hellip;</td><td>&hellip;</td><td>&hellip;</td></tr><tr><td>1</td><td>38s 800ms</td><td>398</td><td>&quot;alive&quot;</td><td>4177</td><td>-45.74</td><td>-0.33</td><td>0.81</td><td>null</td><td>-45.55</td><td>-1.7</td><td>null</td><td>null</td><td>-45.0</td><td>-9.49</td><td>null</td><td>null</td><td>-47.36</td><td>2.84</td><td>null</td><td>null</td><td>-40.5</td><td>-18.28</td><td>null</td><td>null</td><td>-45.49</td><td>11.98</td><td>null</td><td>null</td><td>-30.92</td><td>-3.72</td><td>null</td><td>null</td><td>-33.66</td><td>-16.0</td><td>null</td><td>null</td><td>&hellip;</td><td>null</td><td>-0.65</td><td>-11.21</td><td>null</td><td>null</td><td>-14.19</td><td>11.86</td><td>null</td><td>null</td><td>-16.35</td><td>-21.37</td><td>null</td><td>null</td><td>-18.48</td><td>-1.31</td><td>null</td><td>null</td><td>-38.57</td><td>-18.13</td><td>null</td><td>null</td><td>-36.17</td><td>11.17</td><td>null</td><td>null</td><td>-34.25</td><td>-19.54</td><td>null</td><td>null</td><td>-30.79</td><td>-12.05</td><td>null</td><td>null</td><td>-38.52</td><td>1.4</td><td>null</td><td>null</td></tr><tr><td>1</td><td>39s</td><td>400</td><td>&quot;alive&quot;</td><td>4177</td><td>-45.53</td><td>-0.28</td><td>0.71</td><td>null</td><td>-45.24</td><td>-1.58</td><td>null</td><td>null</td><td>-45.01</td><td>-9.86</td><td>null</td><td>null</td><td>-47.3</td><td>3.29</td><td>null</td><td>null</td><td>-39.9</td><td>-18.5</td><td>null</td><td>null</td><td>-45.32</td><td>12.59</td><td>null</td><td>null</td><td>-30.67</td><td>-3.15</td><td>null</td><td>null</td><td>-33.3</td><td>-15.74</td><td>null</td><td>null</td><td>&hellip;</td><td>null</td><td>-0.54</td><td>-10.84</td><td>null</td><td>null</td><td>-13.89</td><td>12.13</td><td>null</td><td>null</td><td>-15.79</td><td>-21.15</td><td>null</td><td>null</td><td>-18.17</td><td>-1.01</td><td>null</td><td>null</td><td>-37.56</td><td>-17.88</td><td>null</td><td>null</td><td>-35.52</td><td>11.32</td><td>null</td><td>null</td><td>-34.04</td><td>-19.36</td><td>null</td><td>null</td><td>-30.8</td><td>-11.62</td><td>null</td><td>null</td><td>-38.12</td><td>1.69</td><td>null</td><td>null</td></tr><tr><td>1</td><td>39s 200ms</td><td>402</td><td>&quot;alive&quot;</td><td>4177</td><td>-45.07</td><td>-0.45</td><td>0.59</td><td>null</td><td>-44.94</td><td>-1.48</td><td>null</td><td>null</td><td>-45.06</td><td>-10.24</td><td>null</td><td>null</td><td>-47.24</td><td>3.67</td><td>null</td><td>null</td><td>-39.32</td><td>-18.73</td><td>null</td><td>null</td><td>-45.14</td><td>13.19</td><td>null</td><td>null</td><td>-30.46</td><td>-2.58</td><td>null</td><td>null</td><td>-32.95</td><td>-15.47</td><td>null</td><td>null</td><td>&hellip;</td><td>null</td><td>-0.44</td><td>-10.46</td><td>null</td><td>null</td><td>-13.59</td><td>12.38</td><td>null</td><td>null</td><td>-15.24</td><td>-20.92</td><td>null</td><td>null</td><td>-17.87</td><td>-0.71</td><td>null</td><td>null</td><td>-36.57</td><td>-17.63</td><td>null</td><td>null</td><td>-34.9</td><td>11.46</td><td>null</td><td>null</td><td>-33.83</td><td>-19.16</td><td>null</td><td>null</td><td>-30.82</td><td>-11.2</td><td>null</td><td>null</td><td>-37.73</td><td>1.98</td><td>null</td><td>null</td></tr><tr><td>1</td><td>39s 400ms</td><td>404</td><td>&quot;alive&quot;</td><td>1805</td><td>-44.79</td><td>-0.43</td><td>0.73</td><td>null</td><td>-44.66</td><td>-1.41</td><td>null</td><td>null</td><td>-45.13</td><td>-10.62</td><td>null</td><td>null</td><td>-47.17</td><td>3.99</td><td>null</td><td>null</td><td>-38.74</td><td>-18.96</td><td>null</td><td>null</td><td>-44.98</td><td>13.78</td><td>null</td><td>null</td><td>-30.27</td><td>-2.02</td><td>null</td><td>null</td><td>-32.61</td><td>-15.19</td><td>null</td><td>null</td><td>&hellip;</td><td>null</td><td>-0.33</td><td>-10.09</td><td>null</td><td>null</td><td>-13.28</td><td>12.63</td><td>null</td><td>null</td><td>-14.71</td><td>-20.67</td><td>null</td><td>null</td><td>-17.59</td><td>-0.43</td><td>null</td><td>null</td><td>-35.59</td><td>-17.38</td><td>null</td><td>null</td><td>-34.3</td><td>11.59</td><td>null</td><td>null</td><td>-33.61</td><td>-18.98</td><td>null</td><td>null</td><td>-30.85</td><td>-10.78</td><td>null</td><td>null</td><td>-37.37</td><td>2.26</td><td>null</td><td>null</td></tr><tr><td>1</td><td>39s 600ms</td><td>406</td><td>&quot;alive&quot;</td><td>1805</td><td>-44.36</td><td>-0.92</td><td>0.89</td><td>null</td><td>-44.39</td><td>-1.35</td><td>null</td><td>null</td><td>-45.22</td><td>-11.0</td><td>null</td><td>null</td><td>-47.1</td><td>4.25</td><td>null</td><td>null</td><td>-38.18</td><td>-19.19</td><td>null</td><td>null</td><td>-44.81</td><td>14.36</td><td>null</td><td>null</td><td>-30.08</td><td>-1.49</td><td>null</td><td>null</td><td>-32.27</td><td>-14.89</td><td>null</td><td>null</td><td>&hellip;</td><td>null</td><td>-0.23</td><td>-9.74</td><td>null</td><td>null</td><td>-12.96</td><td>12.87</td><td>null</td><td>null</td><td>-14.21</td><td>-20.43</td><td>null</td><td>null</td><td>-17.32</td><td>-0.16</td><td>null</td><td>null</td><td>-34.64</td><td>-17.09</td><td>null</td><td>null</td><td>-33.72</td><td>11.7</td><td>null</td><td>null</td><td>-33.38</td><td>-18.81</td><td>null</td><td>null</td><td>-30.9</td><td>-10.37</td><td>null</td><td>null</td><td>-37.02</td><td>2.53</td><td>null</td><td>null</td></tr></tbody></table></div>"
      ],
      "text/plain": [
       "shape: (199, 97)\n",
       "┌───────────┬──────────────┬──────────┬────────────┬───┬─────────┬─────────┬─────────┬─────────┐\n",
       "│ period_id ┆ timestamp    ┆ frame_id ┆ ball_state ┆ … ┆ 38673_x ┆ 38673_y ┆ 38673_d ┆ 38673_s │\n",
       "│ ---       ┆ ---          ┆ ---      ┆ ---        ┆   ┆ ---     ┆ ---     ┆ ---     ┆ ---     │\n",
       "│ i64       ┆ duration[μs] ┆ i64      ┆ str        ┆   ┆ f64     ┆ f64     ┆ null    ┆ null    │\n",
       "╞═══════════╪══════════════╪══════════╪════════════╪═══╪═════════╪═════════╪═════════╪═════════╡\n",
       "│ 1         ┆ 0µs          ┆ 10       ┆ dead       ┆ … ┆ 2.67    ┆ 9.94    ┆ null    ┆ null    │\n",
       "│ 1         ┆ 200ms        ┆ 12       ┆ dead       ┆ … ┆ 2.56    ┆ 9.87    ┆ null    ┆ null    │\n",
       "│ 1         ┆ 400ms        ┆ 14       ┆ dead       ┆ … ┆ 2.45    ┆ 9.79    ┆ null    ┆ null    │\n",
       "│ 1         ┆ 600ms        ┆ 16       ┆ dead       ┆ … ┆ 2.35    ┆ 9.7     ┆ null    ┆ null    │\n",
       "│ 1         ┆ 800ms        ┆ 18       ┆ dead       ┆ … ┆ 2.26    ┆ 9.61    ┆ null    ┆ null    │\n",
       "│ …         ┆ …            ┆ …        ┆ …          ┆ … ┆ …       ┆ …       ┆ …       ┆ …       │\n",
       "│ 1         ┆ 38s 800ms    ┆ 398      ┆ alive      ┆ … ┆ -38.52  ┆ 1.4     ┆ null    ┆ null    │\n",
       "│ 1         ┆ 39s          ┆ 400      ┆ alive      ┆ … ┆ -38.12  ┆ 1.69    ┆ null    ┆ null    │\n",
       "│ 1         ┆ 39s 200ms    ┆ 402      ┆ alive      ┆ … ┆ -37.73  ┆ 1.98    ┆ null    ┆ null    │\n",
       "│ 1         ┆ 39s 400ms    ┆ 404      ┆ alive      ┆ … ┆ -37.37  ┆ 2.26    ┆ null    ┆ null    │\n",
       "│ 1         ┆ 39s 600ms    ┆ 406      ┆ alive      ┆ … ┆ -37.02  ┆ 2.53    ┆ null    ┆ null    │\n",
       "└───────────┴──────────────┴──────────┴────────────┴───┴─────────┴─────────┴─────────┴─────────┘"
      ]
     },
     "execution_count": 9,
     "metadata": {},
     "output_type": "execute_result"
    }
   ],
   "source": [
    "dataset.to_df(\n",
    "        engine=\"polars\"\n",
    "    )"
   ]
  },
  {
   "cell_type": "markdown",
   "id": "50585a47",
   "metadata": {
    "ExecuteTime": {
     "end_time": "2025-10-07T16:59:37.341269Z",
     "start_time": "2025-10-07T16:59:37.278814Z"
    }
   },
   "source": [
    "df = (\n",
    "    dataset.transform(\n",
    "        to_orientation=\"STATIC_HOME_AWAY\"\n",
    "    )  # Now, all attacks happen from left to right\n",
    "    .filter(lambda frame: frame.period.id == 1)  # Only keep frames from the first half\n",
    "    .to_df(\n",
    "        engine=\"polars\"\n",
    "    )  # Convert to a Polars DataFrame, or use engine=\"pandas\" for a Pandas DataFrame\n",
    ")"
   ]
  },
  {
   "cell_type": "code",
   "execution_count": 7,
   "id": "9bf40cad",
   "metadata": {},
   "outputs": [
    {
     "data": {
      "text/html": [
       "<div><style>\n",
       ".dataframe > thead > tr,\n",
       ".dataframe > tbody > tr {\n",
       "  text-align: right;\n",
       "  white-space: pre-wrap;\n",
       "}\n",
       "</style>\n",
       "<small>shape: (199, 97)</small><table border=\"1\" class=\"dataframe\"><thead><tr><th>period_id</th><th>timestamp</th><th>frame_id</th><th>ball_state</th><th>ball_owning_team_id</th><th>ball_x</th><th>ball_y</th><th>ball_z</th><th>ball_speed</th><th>51009_x</th><th>51009_y</th><th>51009_d</th><th>51009_s</th><th>176224_x</th><th>176224_y</th><th>176224_d</th><th>176224_s</th><th>51649_x</th><th>51649_y</th><th>51649_d</th><th>51649_s</th><th>50983_x</th><th>50983_y</th><th>50983_d</th><th>50983_s</th><th>735578_x</th><th>735578_y</th><th>735578_d</th><th>735578_s</th><th>50978_x</th><th>50978_y</th><th>50978_d</th><th>50978_s</th><th>735574_x</th><th>735574_y</th><th>735574_d</th><th>735574_s</th><th>&hellip;</th><th>51667_s</th><th>33697_x</th><th>33697_y</th><th>33697_d</th><th>33697_s</th><th>51713_x</th><th>51713_y</th><th>51713_d</th><th>51713_s</th><th>133498_x</th><th>133498_y</th><th>133498_d</th><th>133498_s</th><th>14736_x</th><th>14736_y</th><th>14736_d</th><th>14736_s</th><th>23418_x</th><th>23418_y</th><th>23418_d</th><th>23418_s</th><th>133501_x</th><th>133501_y</th><th>133501_d</th><th>133501_s</th><th>965685_x</th><th>965685_y</th><th>965685_d</th><th>965685_s</th><th>50951_x</th><th>50951_y</th><th>50951_d</th><th>50951_s</th><th>38673_x</th><th>38673_y</th><th>38673_d</th><th>38673_s</th></tr><tr><td>i64</td><td>duration[μs]</td><td>i64</td><td>str</td><td>i64</td><td>f64</td><td>f64</td><td>f64</td><td>null</td><td>f64</td><td>f64</td><td>null</td><td>null</td><td>f64</td><td>f64</td><td>null</td><td>null</td><td>f64</td><td>f64</td><td>null</td><td>null</td><td>f64</td><td>f64</td><td>null</td><td>null</td><td>f64</td><td>f64</td><td>null</td><td>null</td><td>f64</td><td>f64</td><td>null</td><td>null</td><td>f64</td><td>f64</td><td>null</td><td>null</td><td>&hellip;</td><td>null</td><td>f64</td><td>f64</td><td>null</td><td>null</td><td>f64</td><td>f64</td><td>null</td><td>null</td><td>f64</td><td>f64</td><td>null</td><td>null</td><td>f64</td><td>f64</td><td>null</td><td>null</td><td>f64</td><td>f64</td><td>null</td><td>null</td><td>f64</td><td>f64</td><td>null</td><td>null</td><td>f64</td><td>f64</td><td>null</td><td>null</td><td>f64</td><td>f64</td><td>null</td><td>null</td><td>f64</td><td>f64</td><td>null</td><td>null</td></tr></thead><tbody><tr><td>1</td><td>0µs</td><td>10</td><td>&quot;dead&quot;</td><td>null</td><td>-0.32</td><td>-0.38</td><td>0.13</td><td>null</td><td>39.63</td><td>0.08</td><td>null</td><td>null</td><td>19.21</td><td>9.18</td><td>null</td><td>null</td><td>21.83</td><td>-0.47</td><td>null</td><td>null</td><td>1.16</td><td>32.47</td><td>null</td><td>null</td><td>18.88</td><td>-15.73</td><td>null</td><td>null</td><td>7.41</td><td>-7.13</td><td>null</td><td>null</td><td>9.51</td><td>5.01</td><td>null</td><td>null</td><td>&hellip;</td><td>null</td><td>-16.78</td><td>3.67</td><td>null</td><td>null</td><td>-17.03</td><td>-14.69</td><td>null</td><td>null</td><td>-17.55</td><td>13.6</td><td>null</td><td>null</td><td>-11.7</td><td>-6.73</td><td>null</td><td>null</td><td>-10.16</td><td>2.12</td><td>null</td><td>null</td><td>-0.91</td><td>-18.96</td><td>null</td><td>null</td><td>-7.74</td><td>16.27</td><td>null</td><td>null</td><td>-0.4</td><td>8.28</td><td>null</td><td>null</td><td>-2.67</td><td>-9.94</td><td>null</td><td>null</td></tr><tr><td>1</td><td>200ms</td><td>12</td><td>&quot;dead&quot;</td><td>null</td><td>-0.57</td><td>0.07</td><td>0.19</td><td>null</td><td>40.06</td><td>0.18</td><td>null</td><td>null</td><td>19.24</td><td>9.27</td><td>null</td><td>null</td><td>21.81</td><td>-0.4</td><td>null</td><td>null</td><td>1.13</td><td>32.66</td><td>null</td><td>null</td><td>19.07</td><td>-15.73</td><td>null</td><td>null</td><td>7.32</td><td>-7.14</td><td>null</td><td>null</td><td>9.46</td><td>5.15</td><td>null</td><td>null</td><td>&hellip;</td><td>null</td><td>-16.83</td><td>3.72</td><td>null</td><td>null</td><td>-17.13</td><td>-14.55</td><td>null</td><td>null</td><td>-17.59</td><td>13.66</td><td>null</td><td>null</td><td>-11.46</td><td>-6.66</td><td>null</td><td>null</td><td>-10.09</td><td>2.31</td><td>null</td><td>null</td><td>-1.05</td><td>-18.74</td><td>null</td><td>null</td><td>-7.8</td><td>16.43</td><td>null</td><td>null</td><td>-0.48</td><td>8.49</td><td>null</td><td>null</td><td>-2.56</td><td>-9.87</td><td>null</td><td>null</td></tr><tr><td>1</td><td>400ms</td><td>14</td><td>&quot;dead&quot;</td><td>null</td><td>-0.59</td><td>0.03</td><td>0.14</td><td>null</td><td>40.39</td><td>0.25</td><td>null</td><td>null</td><td>19.26</td><td>9.36</td><td>null</td><td>null</td><td>21.78</td><td>-0.34</td><td>null</td><td>null</td><td>1.11</td><td>32.82</td><td>null</td><td>null</td><td>19.25</td><td>-15.73</td><td>null</td><td>null</td><td>7.23</td><td>-7.13</td><td>null</td><td>null</td><td>9.44</td><td>5.24</td><td>null</td><td>null</td><td>&hellip;</td><td>null</td><td>-16.88</td><td>3.74</td><td>null</td><td>null</td><td>-17.19</td><td>-14.43</td><td>null</td><td>null</td><td>-17.62</td><td>13.71</td><td>null</td><td>null</td><td>-11.22</td><td>-6.61</td><td>null</td><td>null</td><td>-10.02</td><td>2.45</td><td>null</td><td>null</td><td>-1.17</td><td>-18.53</td><td>null</td><td>null</td><td>-7.84</td><td>16.57</td><td>null</td><td>null</td><td>-0.53</td><td>8.64</td><td>null</td><td>null</td><td>-2.45</td><td>-9.79</td><td>null</td><td>null</td></tr><tr><td>1</td><td>600ms</td><td>16</td><td>&quot;dead&quot;</td><td>null</td><td>-0.65</td><td>-0.03</td><td>0.14</td><td>null</td><td>40.63</td><td>0.3</td><td>null</td><td>null</td><td>19.28</td><td>9.43</td><td>null</td><td>null</td><td>21.75</td><td>-0.29</td><td>null</td><td>null</td><td>1.09</td><td>32.93</td><td>null</td><td>null</td><td>19.41</td><td>-15.73</td><td>null</td><td>null</td><td>7.14</td><td>-7.11</td><td>null</td><td>null</td><td>9.43</td><td>5.3</td><td>null</td><td>null</td><td>&hellip;</td><td>null</td><td>-16.93</td><td>3.74</td><td>null</td><td>null</td><td>-17.2</td><td>-14.33</td><td>null</td><td>null</td><td>-17.63</td><td>13.75</td><td>null</td><td>null</td><td>-11.0</td><td>-6.58</td><td>null</td><td>null</td><td>-9.93</td><td>2.56</td><td>null</td><td>null</td><td>-1.26</td><td>-18.35</td><td>null</td><td>null</td><td>-7.85</td><td>16.69</td><td>null</td><td>null</td><td>-0.56</td><td>8.73</td><td>null</td><td>null</td><td>-2.35</td><td>-9.7</td><td>null</td><td>null</td></tr><tr><td>1</td><td>800ms</td><td>18</td><td>&quot;dead&quot;</td><td>null</td><td>-0.67</td><td>-0.06</td><td>0.15</td><td>null</td><td>40.72</td><td>0.29</td><td>null</td><td>null</td><td>19.27</td><td>9.5</td><td>null</td><td>null</td><td>21.72</td><td>-0.27</td><td>null</td><td>null</td><td>1.08</td><td>32.99</td><td>null</td><td>null</td><td>19.57</td><td>-15.7</td><td>null</td><td>null</td><td>7.05</td><td>-7.04</td><td>null</td><td>null</td><td>9.47</td><td>5.3</td><td>null</td><td>null</td><td>&hellip;</td><td>null</td><td>-16.94</td><td>3.7</td><td>null</td><td>null</td><td>-17.15</td><td>-14.27</td><td>null</td><td>null</td><td>-17.64</td><td>13.78</td><td>null</td><td>null</td><td>-10.77</td><td>-6.58</td><td>null</td><td>null</td><td>-9.84</td><td>2.61</td><td>null</td><td>null</td><td>-1.35</td><td>-18.22</td><td>null</td><td>null</td><td>-7.81</td><td>16.77</td><td>null</td><td>null</td><td>-0.55</td><td>8.74</td><td>null</td><td>null</td><td>-2.26</td><td>-9.61</td><td>null</td><td>null</td></tr><tr><td>&hellip;</td><td>&hellip;</td><td>&hellip;</td><td>&hellip;</td><td>&hellip;</td><td>&hellip;</td><td>&hellip;</td><td>&hellip;</td><td>&hellip;</td><td>&hellip;</td><td>&hellip;</td><td>&hellip;</td><td>&hellip;</td><td>&hellip;</td><td>&hellip;</td><td>&hellip;</td><td>&hellip;</td><td>&hellip;</td><td>&hellip;</td><td>&hellip;</td><td>&hellip;</td><td>&hellip;</td><td>&hellip;</td><td>&hellip;</td><td>&hellip;</td><td>&hellip;</td><td>&hellip;</td><td>&hellip;</td><td>&hellip;</td><td>&hellip;</td><td>&hellip;</td><td>&hellip;</td><td>&hellip;</td><td>&hellip;</td><td>&hellip;</td><td>&hellip;</td><td>&hellip;</td><td>&hellip;</td><td>&hellip;</td><td>&hellip;</td><td>&hellip;</td><td>&hellip;</td><td>&hellip;</td><td>&hellip;</td><td>&hellip;</td><td>&hellip;</td><td>&hellip;</td><td>&hellip;</td><td>&hellip;</td><td>&hellip;</td><td>&hellip;</td><td>&hellip;</td><td>&hellip;</td><td>&hellip;</td><td>&hellip;</td><td>&hellip;</td><td>&hellip;</td><td>&hellip;</td><td>&hellip;</td><td>&hellip;</td><td>&hellip;</td><td>&hellip;</td><td>&hellip;</td><td>&hellip;</td><td>&hellip;</td><td>&hellip;</td><td>&hellip;</td><td>&hellip;</td><td>&hellip;</td><td>&hellip;</td><td>&hellip;</td><td>&hellip;</td><td>&hellip;</td><td>&hellip;</td><td>&hellip;</td></tr><tr><td>1</td><td>38s 800ms</td><td>398</td><td>&quot;alive&quot;</td><td>4177</td><td>45.74</td><td>0.33</td><td>0.81</td><td>null</td><td>45.55</td><td>1.7</td><td>null</td><td>null</td><td>45.0</td><td>9.49</td><td>null</td><td>null</td><td>47.36</td><td>-2.84</td><td>null</td><td>null</td><td>40.5</td><td>18.28</td><td>null</td><td>null</td><td>45.49</td><td>-11.98</td><td>null</td><td>null</td><td>30.92</td><td>3.72</td><td>null</td><td>null</td><td>33.66</td><td>16.0</td><td>null</td><td>null</td><td>&hellip;</td><td>null</td><td>0.65</td><td>11.21</td><td>null</td><td>null</td><td>14.19</td><td>-11.86</td><td>null</td><td>null</td><td>16.35</td><td>21.37</td><td>null</td><td>null</td><td>18.48</td><td>1.31</td><td>null</td><td>null</td><td>38.57</td><td>18.13</td><td>null</td><td>null</td><td>36.17</td><td>-11.17</td><td>null</td><td>null</td><td>34.25</td><td>19.54</td><td>null</td><td>null</td><td>30.79</td><td>12.05</td><td>null</td><td>null</td><td>38.52</td><td>-1.4</td><td>null</td><td>null</td></tr><tr><td>1</td><td>39s</td><td>400</td><td>&quot;alive&quot;</td><td>4177</td><td>45.53</td><td>0.28</td><td>0.71</td><td>null</td><td>45.24</td><td>1.58</td><td>null</td><td>null</td><td>45.01</td><td>9.86</td><td>null</td><td>null</td><td>47.3</td><td>-3.29</td><td>null</td><td>null</td><td>39.9</td><td>18.5</td><td>null</td><td>null</td><td>45.32</td><td>-12.59</td><td>null</td><td>null</td><td>30.67</td><td>3.15</td><td>null</td><td>null</td><td>33.3</td><td>15.74</td><td>null</td><td>null</td><td>&hellip;</td><td>null</td><td>0.54</td><td>10.84</td><td>null</td><td>null</td><td>13.89</td><td>-12.13</td><td>null</td><td>null</td><td>15.79</td><td>21.15</td><td>null</td><td>null</td><td>18.17</td><td>1.01</td><td>null</td><td>null</td><td>37.56</td><td>17.88</td><td>null</td><td>null</td><td>35.52</td><td>-11.32</td><td>null</td><td>null</td><td>34.04</td><td>19.36</td><td>null</td><td>null</td><td>30.8</td><td>11.62</td><td>null</td><td>null</td><td>38.12</td><td>-1.69</td><td>null</td><td>null</td></tr><tr><td>1</td><td>39s 200ms</td><td>402</td><td>&quot;alive&quot;</td><td>4177</td><td>45.07</td><td>0.45</td><td>0.59</td><td>null</td><td>44.94</td><td>1.48</td><td>null</td><td>null</td><td>45.06</td><td>10.24</td><td>null</td><td>null</td><td>47.24</td><td>-3.67</td><td>null</td><td>null</td><td>39.32</td><td>18.73</td><td>null</td><td>null</td><td>45.14</td><td>-13.19</td><td>null</td><td>null</td><td>30.46</td><td>2.58</td><td>null</td><td>null</td><td>32.95</td><td>15.47</td><td>null</td><td>null</td><td>&hellip;</td><td>null</td><td>0.44</td><td>10.46</td><td>null</td><td>null</td><td>13.59</td><td>-12.38</td><td>null</td><td>null</td><td>15.24</td><td>20.92</td><td>null</td><td>null</td><td>17.87</td><td>0.71</td><td>null</td><td>null</td><td>36.57</td><td>17.63</td><td>null</td><td>null</td><td>34.9</td><td>-11.46</td><td>null</td><td>null</td><td>33.83</td><td>19.16</td><td>null</td><td>null</td><td>30.82</td><td>11.2</td><td>null</td><td>null</td><td>37.73</td><td>-1.98</td><td>null</td><td>null</td></tr><tr><td>1</td><td>39s 400ms</td><td>404</td><td>&quot;alive&quot;</td><td>1805</td><td>44.79</td><td>0.43</td><td>0.73</td><td>null</td><td>44.66</td><td>1.41</td><td>null</td><td>null</td><td>45.13</td><td>10.62</td><td>null</td><td>null</td><td>47.17</td><td>-3.99</td><td>null</td><td>null</td><td>38.74</td><td>18.96</td><td>null</td><td>null</td><td>44.98</td><td>-13.78</td><td>null</td><td>null</td><td>30.27</td><td>2.02</td><td>null</td><td>null</td><td>32.61</td><td>15.19</td><td>null</td><td>null</td><td>&hellip;</td><td>null</td><td>0.33</td><td>10.09</td><td>null</td><td>null</td><td>13.28</td><td>-12.63</td><td>null</td><td>null</td><td>14.71</td><td>20.67</td><td>null</td><td>null</td><td>17.59</td><td>0.43</td><td>null</td><td>null</td><td>35.59</td><td>17.38</td><td>null</td><td>null</td><td>34.3</td><td>-11.59</td><td>null</td><td>null</td><td>33.61</td><td>18.98</td><td>null</td><td>null</td><td>30.85</td><td>10.78</td><td>null</td><td>null</td><td>37.37</td><td>-2.26</td><td>null</td><td>null</td></tr><tr><td>1</td><td>39s 600ms</td><td>406</td><td>&quot;alive&quot;</td><td>1805</td><td>44.36</td><td>0.92</td><td>0.89</td><td>null</td><td>44.39</td><td>1.35</td><td>null</td><td>null</td><td>45.22</td><td>11.0</td><td>null</td><td>null</td><td>47.1</td><td>-4.25</td><td>null</td><td>null</td><td>38.18</td><td>19.19</td><td>null</td><td>null</td><td>44.81</td><td>-14.36</td><td>null</td><td>null</td><td>30.08</td><td>1.49</td><td>null</td><td>null</td><td>32.27</td><td>14.89</td><td>null</td><td>null</td><td>&hellip;</td><td>null</td><td>0.23</td><td>9.74</td><td>null</td><td>null</td><td>12.96</td><td>-12.87</td><td>null</td><td>null</td><td>14.21</td><td>20.43</td><td>null</td><td>null</td><td>17.32</td><td>0.16</td><td>null</td><td>null</td><td>34.64</td><td>17.09</td><td>null</td><td>null</td><td>33.72</td><td>-11.7</td><td>null</td><td>null</td><td>33.38</td><td>18.81</td><td>null</td><td>null</td><td>30.9</td><td>10.37</td><td>null</td><td>null</td><td>37.02</td><td>-2.53</td><td>null</td><td>null</td></tr></tbody></table></div>"
      ],
      "text/plain": [
       "shape: (199, 97)\n",
       "┌───────────┬──────────────┬──────────┬────────────┬───┬─────────┬─────────┬─────────┬─────────┐\n",
       "│ period_id ┆ timestamp    ┆ frame_id ┆ ball_state ┆ … ┆ 38673_x ┆ 38673_y ┆ 38673_d ┆ 38673_s │\n",
       "│ ---       ┆ ---          ┆ ---      ┆ ---        ┆   ┆ ---     ┆ ---     ┆ ---     ┆ ---     │\n",
       "│ i64       ┆ duration[μs] ┆ i64      ┆ str        ┆   ┆ f64     ┆ f64     ┆ null    ┆ null    │\n",
       "╞═══════════╪══════════════╪══════════╪════════════╪═══╪═════════╪═════════╪═════════╪═════════╡\n",
       "│ 1         ┆ 0µs          ┆ 10       ┆ dead       ┆ … ┆ -2.67   ┆ -9.94   ┆ null    ┆ null    │\n",
       "│ 1         ┆ 200ms        ┆ 12       ┆ dead       ┆ … ┆ -2.56   ┆ -9.87   ┆ null    ┆ null    │\n",
       "│ 1         ┆ 400ms        ┆ 14       ┆ dead       ┆ … ┆ -2.45   ┆ -9.79   ┆ null    ┆ null    │\n",
       "│ 1         ┆ 600ms        ┆ 16       ┆ dead       ┆ … ┆ -2.35   ┆ -9.7    ┆ null    ┆ null    │\n",
       "│ 1         ┆ 800ms        ┆ 18       ┆ dead       ┆ … ┆ -2.26   ┆ -9.61   ┆ null    ┆ null    │\n",
       "│ …         ┆ …            ┆ …        ┆ …          ┆ … ┆ …       ┆ …       ┆ …       ┆ …       │\n",
       "│ 1         ┆ 38s 800ms    ┆ 398      ┆ alive      ┆ … ┆ 38.52   ┆ -1.4    ┆ null    ┆ null    │\n",
       "│ 1         ┆ 39s          ┆ 400      ┆ alive      ┆ … ┆ 38.12   ┆ -1.69   ┆ null    ┆ null    │\n",
       "│ 1         ┆ 39s 200ms    ┆ 402      ┆ alive      ┆ … ┆ 37.73   ┆ -1.98   ┆ null    ┆ null    │\n",
       "│ 1         ┆ 39s 400ms    ┆ 404      ┆ alive      ┆ … ┆ 37.37   ┆ -2.26   ┆ null    ┆ null    │\n",
       "│ 1         ┆ 39s 600ms    ┆ 406      ┆ alive      ┆ … ┆ 37.02   ┆ -2.53   ┆ null    ┆ null    │\n",
       "└───────────┴──────────────┴──────────┴────────────┴───┴─────────┴─────────┴─────────┴─────────┘"
      ]
     },
     "execution_count": 7,
     "metadata": {},
     "output_type": "execute_result"
    }
   ],
   "source": [
    "df"
   ]
  },
  {
   "cell_type": "markdown",
   "id": "c69b6bc1",
   "metadata": {},
   "source": [
    "---\n",
    "\n",
    "### Metadata\n",
    "\n",
    "Kloppy also stores all relevant [**Metadata**](https://kloppy.pysport.org/user-guide/concepts/metadata/) which you can use to easily obtain player names, jersey numbers, playing positions etc."
   ]
  },
  {
   "cell_type": "code",
   "execution_count": 7,
   "id": "defa8d83",
   "metadata": {
    "ExecuteTime": {
     "end_time": "2025-10-07T16:56:41.901750Z",
     "start_time": "2025-10-07T16:56:41.898156Z"
    }
   },
   "outputs": [
    {
     "name": "stdout",
     "output_type": "stream",
     "text": [
      "10 - Guillermo Luis May Bartesaghi - Striker\n",
      "17 - Callan Elliot - Unknown\n",
      "22 - Jake Brimmer - Striker\n",
      "15 - Francis De Vries - Unknown\n",
      "4 - Nando Pijnaker - Left Center Back\n",
      "23 - Daniel Hall - Right Center Back\n",
      "6 - Louis Verstraete - Defensive Midfield\n",
      "14 - Liam  Gillion - Left Wing\n",
      "25 - Neyder Stiven Moreno Betancur - Right Wing\n",
      "5 - Tommy Smith - Center Back\n",
      "9 - Max Mata - Striker\n",
      "27 - Logan Rogerson - Right Wing\n",
      "28 - Luis Felipe Gallegos Leiva - Attacking Midfield\n",
      "3 - Scott Galloway - Unknown\n",
      "1 - Michael Woud - Unknown\n",
      "8 - Luis Toomey - Unknown\n",
      "7 - Cameron Drew Howieson - Unknown\n",
      "12 - Alex Noah Paulsen - Unknown\n"
     ]
    }
   ],
   "source": [
    "home_team, away_team = dataset.metadata.teams\n",
    "\n",
    "for player in home_team.players:\n",
    "    print(f\"{player.jersey_no} - {player.name} - {player.starting_position}\")"
   ]
  },
  {
   "cell_type": "markdown",
   "id": "71805006",
   "metadata": {},
   "source": [
    "---\n",
    "\n",
    "### Basic Kloppy Functionalities\n",
    "\n",
    "Below is a non-exhaustive list of other Kloppy functionalities.\n",
    "\n",
    "- [TrackingDataset](https://kloppy.pysport.org/user-guide/concepts/tracking-data/)\n",
    "- [Metadata (players, team names etc.)](https://kloppy.pysport.org/user-guide/concepts/metadata/)\n",
    "- [Coordinate Systems](https://kloppy.pysport.org/user-guide/concepts/coordinates/#built-in-coordinate-systems)\n",
    "- [Transformations](https://kloppy.pysport.org/user-guide/transformations/coordinates/)\n",
    "- [Filter](https://kloppy.pysport.org/user-guide/getting-started/#filtering-data)\n",
    "- [Exporting to pandas / polars DataFrames](https://kloppy.pysport.org/user-guide/exporting-data/dataframes/)"
   ]
  },
  {
   "cell_type": "markdown",
   "id": "1e268c67",
   "metadata": {},
   "source": [
    "## Existing Open Source Projects\n",
    "Below is a non-exhaustive list of publicly available **open source** football analytics tools. Feel free to use these as inspiration, build on-top of these tools or develop them further. We advise Analytics Cup participants to not replicate existing work, but rather use it to build new open source tools instead.\n",
    "\n",
    "**Plotting**\n",
    "\n",
    "- [`mplsoccer`](https://mplsoccer.readthedocs.io/en/latest/) and `matplotlib` to plot some different configurations of tracking data.\n",
    "- [`soccer-d3`](https://github.com/probberechts/d3-soccer)\n",
    "- And check out [Kloppy's Plotting Examples](https://kloppy.pysport.org/user-guide/getting-started/#exec-51--__tabbed_1_2)\n",
    "\n",
    "**Resources for Positional Tracking Data**\n",
    "- [floodlight](https://floodlight.readthedocs.io/en/latest/)\n",
    "- [databallpy](https://databallpy.readthedocs.io/en/latest/?badge=latest)\n",
    "- [Hyunsung Kim @ KAIST](https://github.com/hyunsungkim-ds)\n",
    "- [Friends of Tracking](https://github.com/Friends-of-Tracking-Data-FoTD)\n",
    "- [unravelsports](https://github.com/UnravelSports/UnravelSports)\n",
    "\n",
    "**Other Football Analytics Resources**\n",
    "- [socceraction](https://socceraction.readthedocs.io/en/latest/)\n",
    "- [Footballdata](https://Footballdata.readthedocs.io/en/latest/)\n",
    "- [ETSY](https://github.com/ML-KULeuven/ETSY) \n",
    "- [soccer-xg](https://github.com/ML-KULeuven/soccer_xg)\n",
    "- [OpenSTARLab](https://openstarlab.readthedocs.io/en/latest/)\n",
    "- [Soccer Analytics Handbook](https://github.com/devinpleuler/analytics-handbook)\n",
    "- [penaltyblog](https://pypi.org/project/penaltyblog/)\n"
   ]
  },
  {
   "cell_type": "markdown",
   "id": "8a30f471",
   "metadata": {},
   "source": []
  }
 ],
 "metadata": {
  "kernelspec": {
   "display_name": "e4_hackathon",
   "language": "python",
   "name": "python3"
  },
  "language_info": {
   "codemirror_mode": {
    "name": "ipython",
    "version": 3
   },
   "file_extension": ".py",
   "mimetype": "text/x-python",
   "name": "python",
   "nbconvert_exporter": "python",
   "pygments_lexer": "ipython3",
   "version": "3.13.9"
  }
 },
 "nbformat": 4,
 "nbformat_minor": 5
}
