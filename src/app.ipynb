{
 "cells": [
  {
   "cell_type": "code",
   "execution_count": 1,
   "id": "f0344947",
   "metadata": {},
   "outputs": [],
   "source": [
    "from models.DataLoader import DataLoader"
   ]
  },
  {
   "cell_type": "code",
   "execution_count": 3,
   "id": "527393f7",
   "metadata": {},
   "outputs": [
    {
     "ename": "AttributeError",
     "evalue": "'DataLoader' object has no attribute 'load_event_data'",
     "output_type": "error",
     "traceback": [
      "\u001b[31m---------------------------------------------------------------------------\u001b[39m",
      "\u001b[31mAttributeError\u001b[39m                            Traceback (most recent call last)",
      "\u001b[36mCell\u001b[39m\u001b[36m \u001b[39m\u001b[32mIn[3]\u001b[39m\u001b[32m, line 3\u001b[39m\n\u001b[32m      1\u001b[39m data_loader = DataLoader()\n\u001b[32m      2\u001b[39m match_id = \u001b[32m1886347\u001b[39m\n\u001b[32m----> \u001b[39m\u001b[32m3\u001b[39m \u001b[43mdata_loader\u001b[49m\u001b[43m.\u001b[49m\u001b[43mload_event_data\u001b[49m(match_id)\n",
      "\u001b[31mAttributeError\u001b[39m: 'DataLoader' object has no attribute 'load_event_data'"
     ]
    }
   ],
   "source": [
    "data_loader = DataLoader()\n",
    "match_id = 1886347\n",
    "data_loader.load_event_data(match_id)"
   ]
  },
  {
   "cell_type": "code",
   "execution_count": null,
   "id": "420ddbae",
   "metadata": {},
   "outputs": [],
   "source": []
  }
 ],
 "metadata": {
  "kernelspec": {
   "display_name": "e4_hackathon",
   "language": "python",
   "name": "python3"
  },
  "language_info": {
   "codemirror_mode": {
    "name": "ipython",
    "version": 3
   },
   "file_extension": ".py",
   "mimetype": "text/x-python",
   "name": "python",
   "nbconvert_exporter": "python",
   "pygments_lexer": "ipython3",
   "version": "3.13.9"
  }
 },
 "nbformat": 4,
 "nbformat_minor": 5
}
