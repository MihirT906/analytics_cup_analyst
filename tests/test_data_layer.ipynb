{
 "cells": [
  {
   "cell_type": "markdown",
   "id": "fe59619e",
   "metadata": {},
   "source": [
    "# Simple Import Test Notebook\n",
    "\n",
    "This notebook demonstrates how to import your models easily for \"eyeball checking\"."
   ]
  },
  {
   "cell_type": "code",
   "execution_count": 4,
   "id": "af4297de",
   "metadata": {},
   "outputs": [],
   "source": [
    "# # Add the project root to Python path\n",
    "import sys\n",
    "import os\n",
    "\n",
    "# # Get the project root (go up from tests to project root)\n",
    "project_root = os.path.dirname(os.path.abspath('.'))\n",
    "if project_root not in sys.path:\n",
    "    sys.path.insert(0, project_root)\n",
    "\n",
    "# print(f\"Project root: {project_root}\")\n",
    "# print(f\"Current working directory: {os.getcwd()}\")"
   ]
  },
  {
   "cell_type": "code",
   "execution_count": 5,
   "id": "117c4803",
   "metadata": {},
   "outputs": [
    {
     "name": "stdout",
     "output_type": "stream",
     "text": [
      "✓ Successfully imported DataLoader and GameRenderer\n",
      "DataLoader class: <class 'src.models.DataLoader.DataLoader'>\n",
      "GameRenderer class: <class 'src.models.GameRenderer.GameRenderer'>\n"
     ]
    }
   ],
   "source": [
    "# Now you can import your models easily!\n",
    "from src.models import DataLoader, GameRenderer\n",
    "\n",
    "print(\"✓ Successfully imported DataLoader and GameRenderer\")\n",
    "print(f\"DataLoader class: {DataLoader}\")\n",
    "print(f\"GameRenderer class: {GameRenderer}\")"
   ]
  },
  {
   "cell_type": "code",
   "execution_count": null,
   "id": "a62ec4a3",
   "metadata": {},
   "outputs": [],
   "source": [
    "# Alternative import method\n",
    "from src import DataLoader as DL, GameRenderer as GR\n",
    "\n",
    "print(\"✓ Alternative import also works\")\n",
    "print(f\"DataLoader (as DL): {DL}\")\n",
    "print(f\"GameRenderer (as GR): {GR}\")"
   ]
  },
  {
   "cell_type": "code",
   "execution_count": null,
   "id": "725d7654",
   "metadata": {},
   "outputs": [],
   "source": [
    "# If you want to test instantiation, you can do it here\n",
    "# (You'll need to adjust the parameters based on your actual class constructors)\n",
    "\n",
    "# Example (uncomment and modify as needed):\n",
    "# data_loader = DataLoader(some_parameter)\n",
    "# game_renderer = GameRenderer(some_other_parameter)\n",
    "\n",
    "print(\"Ready to instantiate your models with the appropriate parameters!\")"
   ]
  }
 ],
 "metadata": {
  "kernelspec": {
   "display_name": "e4_hackathon",
   "language": "python",
   "name": "python3"
  },
  "language_info": {
   "codemirror_mode": {
    "name": "ipython",
    "version": 3
   },
   "file_extension": ".py",
   "mimetype": "text/x-python",
   "name": "python",
   "nbconvert_exporter": "python",
   "pygments_lexer": "ipython3",
   "version": "3.13.9"
  }
 },
 "nbformat": 4,
 "nbformat_minor": 5
}
